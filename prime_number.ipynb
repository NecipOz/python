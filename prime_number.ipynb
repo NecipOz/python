{
  "nbformat": 4,
  "nbformat_minor": 0,
  "metadata": {
    "colab": {
      "name": "prime number.ipynb",
      "provenance": [],
      "authorship_tag": "ABX9TyODWml1AWqs/DA1gyx8u+1D",
      "include_colab_link": true
    },
    "kernelspec": {
      "name": "python3",
      "display_name": "Python 3"
    },
    "language_info": {
      "name": "python"
    }
  },
  "cells": [
    {
      "cell_type": "markdown",
      "metadata": {
        "id": "view-in-github",
        "colab_type": "text"
      },
      "source": [
        "<a href=\"https://colab.research.google.com/github/NecipOz/python/blob/main/prime_number.ipynb\" target=\"_parent\"><img src=\"https://colab.research.google.com/assets/colab-badge.svg\" alt=\"Open In Colab\"/></a>"
      ]
    },
    {
      "cell_type": "code",
      "metadata": {
        "colab": {
          "base_uri": "https://localhost:8080/"
        },
        "id": "4Ce_GNRBgz3J",
        "outputId": "dee1e05d-34bc-40ba-dbfb-abeac71ac66c"
      },
      "source": [
        "num = int(input(\"Enter a number: \"))\n",
        "if num == 2 or num == 3:\n",
        "  print(num, \"is a prime number.\")\n",
        "else: \n",
        "  for i in range(2,int(num**(1/2))+1):\n",
        "    if num % i == 0:\n",
        "      print(num, \"is not a prime number\")\n",
        "      break\n",
        "    elif i == int(num**(1/2)):\n",
        "      print(num, \"is a prime number.\")"
      ],
      "execution_count": 19,
      "outputs": [
        {
          "output_type": "stream",
          "name": "stdout",
          "text": [
            "Enter a number: 900307\n",
            "900307 is a prime number.\n"
          ]
        }
      ]
    },
    {
      "cell_type": "code",
      "metadata": {
        "id": "FscH83AWhn6x"
      },
      "source": [
        ""
      ],
      "execution_count": 15,
      "outputs": []
    }
  ]
}