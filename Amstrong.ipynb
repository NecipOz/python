{
  "nbformat": 4,
  "nbformat_minor": 0,
  "metadata": {
    "colab": {
      "name": "Amstrong.ipynb",
      "provenance": [],
      "collapsed_sections": []
    },
    "kernelspec": {
      "name": "python3",
      "display_name": "Python 3"
    },
    "language_info": {
      "name": "python"
    }
  },
  "cells": [
    {
      "cell_type": "code",
      "metadata": {
        "colab": {
          "base_uri": "https://localhost:8080/"
        },
        "id": "lr4vP4gdmmcQ",
        "outputId": "0b09f7c4-a223-49ff-84af-a68f2dea48b9"
      },
      "source": [
        "num = input(\"Enter a number: \")\n",
        "if num.isdecimal():\n",
        "  sum = 0\n",
        "  for i in num:\n",
        "    sum += int(i)**len(num)\n",
        "  if sum == int(num):\n",
        "    print(f\"{num} is an Amstrong number.\")\n",
        "  else:\n",
        "    print(f\"{num} is not an Amstrong number.\")\n",
        "else: \n",
        "  print(\"It is an invalid entry. Don't use non-numeric, float, or negative values!\")"
      ],
      "execution_count": 6,
      "outputs": [
        {
          "output_type": "stream",
          "name": "stdout",
          "text": [
            "Enter a number: 1634\n",
            "1634 is an Amstrong number.\n"
          ]
        }
      ]
    },
    {
      "cell_type": "code",
      "metadata": {
        "id": "SkmiVle5kaMU"
      },
      "source": [
        ""
      ],
      "execution_count": 2,
      "outputs": []
    }
  ]
}