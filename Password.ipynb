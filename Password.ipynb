{
  "nbformat": 4,
  "nbformat_minor": 0,
  "metadata": {
    "colab": {
      "name": "Password.ipynb",
      "provenance": []
    },
    "kernelspec": {
      "name": "python3",
      "display_name": "Python 3"
    },
    "language_info": {
      "name": "python"
    }
  },
  "cells": [
    {
      "cell_type": "code",
      "metadata": {
        "id": "MAeLLZAVD40H"
      },
      "source": [
        "name = input(\"Enter your name: \")\n",
        "if name == \"Necip\":\n",
        "  print(f\"Hello, Necip! The password is: W@12\")\n",
        "else: \n",
        "  print(f\"Hello, {name}! See you later.\")"
      ],
      "execution_count": null,
      "outputs": []
    }
  ]
}