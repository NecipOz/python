{
  "nbformat": 4,
  "nbformat_minor": 0,
  "metadata": {
    "colab": {
      "name": "Covid-19 Risk.ipynb",
      "provenance": [],
      "collapsed_sections": []
    },
    "kernelspec": {
      "name": "python3",
      "display_name": "Python 3"
    },
    "language_info": {
      "name": "python"
    }
  },
  "cells": [
    {
      "cell_type": "code",
      "metadata": {
        "colab": {
          "base_uri": "https://localhost:8080/"
        },
        "id": "slvWKCQvFYl_",
        "outputId": "a06647b9-dad7-4431-db2e-2139af8a2a6c"
      },
      "source": [
        "age =  input(\"Are you a cigarette addict older than 75 years old? Yes/No  \")\n",
        "chronic = input(\"Do you have a severe chronic disease? Yes/No   \")\n",
        "immune =  input(\"Is your immune system too weak? Yes/No   \")\n",
        "listrisk = [age, chronic, immune]\n",
        "i = 0\n",
        "while i < 3:\n",
        "  if listrisk[i].strip().capitalize()==\"Yes\":\n",
        "    listrisk[i] = True\n",
        "  else:\n",
        "    listrisk[i] = False\n",
        "  i += 1\n",
        "risk = listrisk[0] or listrisk[1] or listrisk[2]\n",
        "print(risk)"
      ],
      "execution_count": 5,
      "outputs": [
        {
          "output_type": "stream",
          "name": "stdout",
          "text": [
            "Are you a cigarette addict older than 75 years old? Yes/No  No\n",
            "Do you have a severe chronic disease? Yes/No   No\n",
            "Is your immune system too weak? Yes/No   No\n",
            "False\n"
          ]
        }
      ]
    },
    {
      "cell_type": "code",
      "metadata": {
        "id": "8XPxCq-ZHCPe"
      },
      "source": [
        ""
      ],
      "execution_count": null,
      "outputs": []
    }
  ]
}