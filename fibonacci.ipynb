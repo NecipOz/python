{
  "nbformat": 4,
  "nbformat_minor": 0,
  "metadata": {
    "colab": {
      "name": "fibonacci.ipynb",
      "provenance": []
    },
    "kernelspec": {
      "name": "python3",
      "display_name": "Python 3"
    },
    "language_info": {
      "name": "python"
    }
  },
  "cells": [
    {
      "cell_type": "code",
      "metadata": {
        "colab": {
          "base_uri": "https://localhost:8080/"
        },
        "id": "IR4A8bgPv68z",
        "outputId": "62b4a76a-0a93-4055-e8f5-aa00fb2d4fa3"
      },
      "source": [
        "def fibonacci_list(last):\n",
        "  list_fibonacci = [1,1]\n",
        "  while list_fibonacci[-1] <= last:\n",
        "    list_fibonacci.append(list_fibonacci[-1] + list_fibonacci[-2])\n",
        "  return list_fibonacci[:-1]\n",
        "print(fibonacci_list(55))\n"
      ],
      "execution_count": 16,
      "outputs": [
        {
          "output_type": "stream",
          "name": "stdout",
          "text": [
            "[1, 1, 2, 3, 5, 8, 13, 21, 34, 55]\n"
          ]
        }
      ]
    },
    {
      "cell_type": "code",
      "metadata": {
        "id": "XzFInJA7xzrK"
      },
      "source": [
        ""
      ],
      "execution_count": null,
      "outputs": []
    }
  ]
}